{
  "nbformat": 4,
  "nbformat_minor": 0,
  "metadata": {
    "colab": {
      "name": "RedWineClassification.ipynb",
      "provenance": [],
      "collapsed_sections": [],
      "authorship_tag": "ABX9TyNAUVwl0JoeMqRBPltLeCiO",
      "include_colab_link": true
    },
    "kernelspec": {
      "name": "python3",
      "display_name": "Python 3"
    },
    "language_info": {
      "name": "python"
    }
  },
  "cells": [
    {
      "cell_type": "markdown",
      "metadata": {
        "id": "view-in-github",
        "colab_type": "text"
      },
      "source": [
        "<a href=\"https://colab.research.google.com/github/frogi16/MLP-learning-visualiser/blob/main/RedWineClassification.ipynb\" target=\"_parent\"><img src=\"https://colab.research.google.com/assets/colab-badge.svg\" alt=\"Open In Colab\"/></a>"
      ]
    },
    {
      "cell_type": "markdown",
      "metadata": {
        "id": "mcGH0YghhHZ9"
      },
      "source": [
        "Imports"
      ]
    },
    {
      "cell_type": "code",
      "metadata": {
        "id": "t15WUuG9DRwQ"
      },
      "source": [
        "import warnings\n",
        "\n",
        "import matplotlib.pyplot as plt\n",
        "from sklearn.datasets import fetch_openml\n",
        "from sklearn.preprocessing import StandardScaler\n",
        "from sklearn.exceptions import ConvergenceWarning\n",
        "from sklearn.neural_network import MLPClassifier\n",
        "from sklearn.metrics import classification_report,confusion_matrix\n",
        "from sklearn.model_selection import train_test_split\n",
        "import pandas as pd\n",
        "import math"
      ],
      "execution_count": 75,
      "outputs": []
    },
    {
      "cell_type": "markdown",
      "metadata": {
        "id": "xUuz33IHgZ6J"
      },
      "source": [
        "**Manually upload winequality-red.csv into the root directory of system before executing**"
      ]
    },
    {
      "cell_type": "code",
      "metadata": {
        "id": "c3SeRtNsgtPe"
      },
      "source": [
        "#columns:\n",
        "#    \"fixed acidity\", \"volatile acidity\", \"citric acid\", \"residual sugar\",\n",
        "#    \"chlorides\", \"free sulfur dioxide\", \"total sulfur dioxide\", \"density\",\n",
        "#    \"pH\", \"sulphates\", \"alcohol\", \"quality\"\n",
        "\n",
        "data = pd.read_csv (r'/winequality-red.csv', sep=';')\n",
        "\n",
        "y = pd.DataFrame(data, columns= ['quality']).values.ravel()\n",
        "X = pd.DataFrame(data)\n",
        "X = X.drop(columns='quality')"
      ],
      "execution_count": 76,
      "outputs": []
    },
    {
      "cell_type": "markdown",
      "metadata": {
        "id": "2KeGc67ohT9s"
      },
      "source": [
        "Prepare input"
      ]
    },
    {
      "cell_type": "code",
      "metadata": {
        "id": "rgKqb4ljg0JG"
      },
      "source": [
        "X_train, X_test, y_train, y_test = train_test_split(X, y, test_size=0.25, random_state=42)\n",
        "\n",
        "scaler = StandardScaler()\n",
        "scaler.fit(X_train)\n",
        "X_train = scaler.transform(X_train)\n",
        "X_test = scaler.transform(X_test)"
      ],
      "execution_count": 77,
      "outputs": []
    },
    {
      "cell_type": "markdown",
      "metadata": {
        "id": "ne-ZnuqUh0Lm"
      },
      "source": [
        "Train model"
      ]
    },
    {
      "cell_type": "code",
      "metadata": {
        "colab": {
          "base_uri": "https://localhost:8080/"
        },
        "id": "whGjEND7g3JN",
        "outputId": "8172c931-87bb-4926-b4b8-408cf5116770"
      },
      "source": [
        "mlp = MLPClassifier(hidden_layer_sizes=(11, 50, 50), max_iter=50, alpha=1e-4,\n",
        "                    solver='sgd', verbose=True, random_state=10,\n",
        "                    learning_rate_init=.14, early_stopping=True)\n",
        "\n",
        "with warnings.catch_warnings():\n",
        "    warnings.filterwarnings(\"ignore\", category=ConvergenceWarning,\n",
        "                            module=\"sklearn\")\n",
        "    mlp.fit(X_train, y_train)"
      ],
      "execution_count": 78,
      "outputs": [
        {
          "output_type": "stream",
          "text": [
            "Iteration 1, loss = 1.34374886\n",
            "Validation score: 0.508333\n",
            "Iteration 2, loss = 1.13083920\n",
            "Validation score: 0.566667\n",
            "Iteration 3, loss = 1.04910121\n",
            "Validation score: 0.541667\n",
            "Iteration 4, loss = 0.99209132\n",
            "Validation score: 0.583333\n",
            "Iteration 5, loss = 0.96713917\n",
            "Validation score: 0.575000\n",
            "Iteration 6, loss = 0.95147883\n",
            "Validation score: 0.566667\n",
            "Iteration 7, loss = 0.94787028\n",
            "Validation score: 0.550000\n",
            "Iteration 8, loss = 0.92643733\n",
            "Validation score: 0.566667\n",
            "Iteration 9, loss = 0.91892629\n",
            "Validation score: 0.608333\n",
            "Iteration 10, loss = 0.90374130\n",
            "Validation score: 0.600000\n",
            "Iteration 11, loss = 0.89274159\n",
            "Validation score: 0.608333\n",
            "Iteration 12, loss = 0.88550582\n",
            "Validation score: 0.608333\n",
            "Iteration 13, loss = 0.87822497\n",
            "Validation score: 0.616667\n",
            "Iteration 14, loss = 0.86073790\n",
            "Validation score: 0.600000\n",
            "Iteration 15, loss = 0.87088428\n",
            "Validation score: 0.616667\n",
            "Iteration 16, loss = 0.85730462\n",
            "Validation score: 0.608333\n",
            "Iteration 17, loss = 0.84640372\n",
            "Validation score: 0.641667\n",
            "Iteration 18, loss = 0.84154517\n",
            "Validation score: 0.608333\n",
            "Iteration 19, loss = 0.82425396\n",
            "Validation score: 0.625000\n",
            "Iteration 20, loss = 0.82846514\n",
            "Validation score: 0.600000\n",
            "Iteration 21, loss = 0.82000050\n",
            "Validation score: 0.616667\n",
            "Iteration 22, loss = 0.80663685\n",
            "Validation score: 0.608333\n",
            "Iteration 23, loss = 0.79890652\n",
            "Validation score: 0.608333\n",
            "Iteration 24, loss = 0.80640682\n",
            "Validation score: 0.566667\n",
            "Iteration 25, loss = 0.80850145\n",
            "Validation score: 0.650000\n",
            "Iteration 26, loss = 0.78122684\n",
            "Validation score: 0.575000\n",
            "Iteration 27, loss = 0.77532390\n",
            "Validation score: 0.625000\n",
            "Iteration 28, loss = 0.76205032\n",
            "Validation score: 0.616667\n",
            "Iteration 29, loss = 0.74909316\n",
            "Validation score: 0.600000\n",
            "Iteration 30, loss = 0.75882259\n",
            "Validation score: 0.591667\n",
            "Iteration 31, loss = 0.74696152\n",
            "Validation score: 0.608333\n",
            "Iteration 32, loss = 0.74099554\n",
            "Validation score: 0.616667\n",
            "Iteration 33, loss = 0.73133371\n",
            "Validation score: 0.600000\n",
            "Iteration 34, loss = 0.71497278\n",
            "Validation score: 0.558333\n",
            "Iteration 35, loss = 0.75542017\n",
            "Validation score: 0.558333\n",
            "Iteration 36, loss = 0.71631996\n",
            "Validation score: 0.558333\n",
            "Validation score did not improve more than tol=0.000100 for 10 consecutive epochs. Stopping.\n"
          ],
          "name": "stdout"
        }
      ]
    },
    {
      "cell_type": "markdown",
      "metadata": {
        "id": "hAX1Fy7zh2el"
      },
      "source": [
        "Output results"
      ]
    },
    {
      "cell_type": "code",
      "metadata": {
        "colab": {
          "base_uri": "https://localhost:8080/",
          "height": 693
        },
        "id": "k6raUdAhg4xu",
        "outputId": "bfe5bca5-bd7c-4f69-faa9-969554eb025f"
      },
      "source": [
        "print(\"Training set score: %f\" % mlp.score(X_train, y_train))\n",
        "print(\"Test set score: %f\" % mlp.score(X_test, y_test))\n",
        "\n",
        "predictions = mlp.predict(X_test)\n",
        "print(confusion_matrix(y_test,predictions))\n",
        "print(classification_report(y_test,predictions))\n",
        "\n",
        "plt.plot(mlp.loss_curve_)\n",
        "plt.plot(mlp.validation_scores_)\n",
        "\n",
        "#for coeff_map in mlp.coefs_:\n",
        "#  print(\"-------------------\")\n",
        "#  for coeff in coeff_map:\n",
        "#    print(\"---\" + str(coeff))"
      ],
      "execution_count": 79,
      "outputs": [
        {
          "output_type": "stream",
          "text": [
            "Training set score: 0.676397\n",
            "Test set score: 0.532500\n",
            "[[  0   0   1   0   0   0]\n",
            " [  0   0   8   5   0   0]\n",
            " [  0   1 127  34   2   0]\n",
            " [  0   0  67  70  32   0]\n",
            " [  0   0   1  31  16   0]\n",
            " [  0   0   0   1   4   0]]\n",
            "              precision    recall  f1-score   support\n",
            "\n",
            "           3       0.00      0.00      0.00         1\n",
            "           4       0.00      0.00      0.00        13\n",
            "           5       0.62      0.77      0.69       164\n",
            "           6       0.50      0.41      0.45       169\n",
            "           7       0.30      0.33      0.31        48\n",
            "           8       0.00      0.00      0.00         5\n",
            "\n",
            "    accuracy                           0.53       400\n",
            "   macro avg       0.24      0.25      0.24       400\n",
            "weighted avg       0.50      0.53      0.51       400\n",
            "\n"
          ],
          "name": "stdout"
        },
        {
          "output_type": "stream",
          "text": [
            "/usr/local/lib/python3.7/dist-packages/sklearn/metrics/_classification.py:1272: UndefinedMetricWarning: Precision and F-score are ill-defined and being set to 0.0 in labels with no predicted samples. Use `zero_division` parameter to control this behavior.\n",
            "  _warn_prf(average, modifier, msg_start, len(result))\n"
          ],
          "name": "stderr"
        },
        {
          "output_type": "execute_result",
          "data": {
            "text/plain": [
              "[<matplotlib.lines.Line2D at 0x7f6dcec219d0>]"
            ]
          },
          "metadata": {
            "tags": []
          },
          "execution_count": 79
        },
        {
          "output_type": "display_data",
          "data": {
            "image/png": "[encoded data removed]",
            "text/plain": [
              "<Figure size 432x288 with 1 Axes>"
            ]
          },
          "metadata": {
            "tags": [],
            "needs_background": "light"
          }
        }
      ]
    }
  ]
}